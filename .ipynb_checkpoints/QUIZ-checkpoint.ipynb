{
 "cells": [
  {
   "cell_type": "markdown",
   "id": "dfa9e029",
   "metadata": {},
   "source": [
    "¿Cómo se declara una variable de tipo entero en Python?\n",
    "\n",
    "¿Qué es un float en Python y cómo se crea?\n",
    "\n",
    "Explica cómo declarar una variable booleana y qué valores puede tener.\n",
    "\n",
    "¿Cómo conviertes una cadena (string) a un entero (int) en Python? Da un ejemplo.\n",
    "\n",
    "¿Cuál es el resultado de la operación 5 + 3.0 y por qué?\n",
    "\n",
    "Dado el string texto = \"Hola, Mundo!\", ¿cuál es el método que se utiliza para convertirlo a mayúsculas?\n",
    "\n",
    "¿Cómo se puede acceder al primer elemento de una lista llamada mi_lista en Python"
   ]
  },
  {
   "cell_type": "code",
   "execution_count": 1,
   "id": "24c6a1d2",
   "metadata": {},
   "outputs": [
    {
     "data": {
      "text/plain": [
       "int"
      ]
     },
     "execution_count": 1,
     "metadata": {},
     "output_type": "execute_result"
    }
   ],
   "source": [
    "X=1\n",
    "type(X)"
   ]
  },
  {
   "cell_type": "code",
   "execution_count": 2,
   "id": "d9ba44ae",
   "metadata": {},
   "outputs": [
    {
     "data": {
      "text/plain": [
       "float"
      ]
     },
     "execution_count": 2,
     "metadata": {},
     "output_type": "execute_result"
    }
   ],
   "source": [
    "# float es un tipo de variable, un numero con decimal \n",
    "x=2.5\n",
    "type(x)"
   ]
  },
  {
   "cell_type": "markdown",
   "id": "699d115f",
   "metadata": {},
   "source": [
    "no existen las variables booleanas en python"
   ]
  },
  {
   "cell_type": "code",
   "execution_count": 5,
   "id": "9f3efa83",
   "metadata": {},
   "outputs": [
    {
     "data": {
      "text/plain": [
       "bool"
      ]
     },
     "execution_count": 5,
     "metadata": {},
     "output_type": "execute_result"
    }
   ],
   "source": [
    "flag=True\n",
    "type(flag)"
   ]
  },
  {
   "cell_type": "code",
   "execution_count": 6,
   "id": "72a1d202",
   "metadata": {},
   "outputs": [
    {
     "data": {
      "text/plain": [
       "8.0"
      ]
     },
     "execution_count": 6,
     "metadata": {},
     "output_type": "execute_result"
    }
   ],
   "source": [
    "5+3.0"
   ]
  },
  {
   "cell_type": "markdown",
   "id": "b345a643",
   "metadata": {},
   "source": [
    "porque cuenta el decimal del 3.0 "
   ]
  },
  {
   "cell_type": "code",
   "execution_count": 7,
   "id": "6075b7a6",
   "metadata": {},
   "outputs": [
    {
     "data": {
      "text/plain": [
       "'HOLA, MUNDO!'"
      ]
     },
     "execution_count": 7,
     "metadata": {},
     "output_type": "execute_result"
    }
   ],
   "source": [
    "texto=\"Hola, Mundo!\"\n",
    "texto.upper()"
   ]
  },
  {
   "cell_type": "code",
   "execution_count": 59,
   "id": "14fd5477",
   "metadata": {},
   "outputs": [
    {
     "data": {
      "text/plain": [
       "9"
      ]
     },
     "execution_count": 59,
     "metadata": {},
     "output_type": "execute_result"
    }
   ],
   "source": [
    "mi_lista=[9,1,2,3,4]\n",
    "mi_lista\n",
    "mi_lista[0]"
   ]
  },
  {
   "cell_type": "code",
   "execution_count": 28,
   "id": "8abf37ef",
   "metadata": {},
   "outputs": [
    {
     "ename": "ValueError",
     "evalue": "could not convert string to float: '1.5 s'",
     "output_type": "error",
     "traceback": [
      "\u001b[0;31m---------------------------------------------------------------------------\u001b[0m",
      "\u001b[0;31mValueError\u001b[0m                                Traceback (most recent call last)",
      "Cell \u001b[0;32mIn[28], line 2\u001b[0m\n\u001b[1;32m      1\u001b[0m cadena\u001b[38;5;241m=\u001b[39m\u001b[38;5;124m\"\u001b[39m\u001b[38;5;124m1.5 s\u001b[39m\u001b[38;5;124m\"\u001b[39m\n\u001b[0;32m----> 2\u001b[0m cadena\u001b[38;5;241m=\u001b[39m\u001b[38;5;28mfloat\u001b[39m(cadena)\n\u001b[1;32m      3\u001b[0m cadena\n",
      "\u001b[0;31mValueError\u001b[0m: could not convert string to float: '1.5 s'"
     ]
    }
   ],
   "source": [
    "cadena=\"1.5 s\"\n",
    "cadena=float(cadena)\n",
    "cadena"
   ]
  },
  {
   "cell_type": "code",
   "execution_count": 29,
   "id": "0edf4694",
   "metadata": {},
   "outputs": [
    {
     "data": {
      "text/plain": [
       "str"
      ]
     },
     "execution_count": 29,
     "metadata": {},
     "output_type": "execute_result"
    }
   ],
   "source": [
    "type(cadena)"
   ]
  },
  {
   "cell_type": "code",
   "execution_count": 45,
   "id": "5864a003",
   "metadata": {},
   "outputs": [
    {
     "data": {
      "text/plain": [
       "[3, 4, 'hola', 5.3, 'f']"
      ]
     },
     "execution_count": 45,
     "metadata": {},
     "output_type": "execute_result"
    }
   ],
   "source": [
    "mi_lista2=[3,4,\"hola\",5.3,\"f\"]\n",
    "mi_lista2"
   ]
  },
  {
   "cell_type": "code",
   "execution_count": 31,
   "id": "083b5a50",
   "metadata": {},
   "outputs": [
    {
     "data": {
      "text/plain": [
       "[9, 1, 2, 3, 4, 3, 4, 'hola', 5.3, 'f']"
      ]
     },
     "execution_count": 31,
     "metadata": {},
     "output_type": "execute_result"
    }
   ],
   "source": [
    "mi_lista+mi_lista2"
   ]
  },
  {
   "cell_type": "code",
   "execution_count": 34,
   "id": "15e17134",
   "metadata": {},
   "outputs": [
    {
     "data": {
      "text/plain": [
       "[9, 1, 2, 3, 4, 3, 4, 'hola', 5.3, 'f', 100]"
      ]
     },
     "execution_count": 34,
     "metadata": {},
     "output_type": "execute_result"
    }
   ],
   "source": [
    "p=[100]\n",
    "mi_lista+mi_lista2+p\n"
   ]
  },
  {
   "cell_type": "code",
   "execution_count": 60,
   "id": "066f941e",
   "metadata": {},
   "outputs": [
    {
     "data": {
      "text/plain": [
       "[9, 1, 2, 3, 4, 3, 4, 'hola', 5.3, 'f', 100, [...]]"
      ]
     },
     "execution_count": 60,
     "metadata": {},
     "output_type": "execute_result"
    }
   ],
   "source": [
    "mi_lista.extend(mi_lista2)\n",
    "mi_lista.append(100)\n",
    "mi_lista\n",
    "mi_lista.append(mi_lista)\n",
    "mi_lista"
   ]
  },
  {
   "cell_type": "code",
   "execution_count": 75,
   "id": "3b8edd95",
   "metadata": {},
   "outputs": [],
   "source": [
    "import random\n",
    "\n",
    "# Número de elementos que deseas\n",
    "n = 100  # Cambia esto según lo necesites\n",
    "\n",
    "# Crear una lista de n números aleatorios entre 1 y 100\n",
    "lista_random = [random.randint(1, 10) for _ in range(n)]\n",
    "lista_random\n",
    "lista_pares=[]\n",
    "for elemento in lista_random:\n",
    "    if elemento%2==0:\n",
    "        lista_pares.append(elemento)\n"
   ]
  },
  {
   "cell_type": "code",
   "execution_count": 76,
   "id": "5236f637",
   "metadata": {},
   "outputs": [
    {
     "data": {
      "text/plain": [
       "[4,\n",
       " 6,\n",
       " 2,\n",
       " 6,\n",
       " 2,\n",
       " 6,\n",
       " 8,\n",
       " 10,\n",
       " 6,\n",
       " 4,\n",
       " 6,\n",
       " 2,\n",
       " 4,\n",
       " 8,\n",
       " 8,\n",
       " 4,\n",
       " 4,\n",
       " 2,\n",
       " 4,\n",
       " 6,\n",
       " 10,\n",
       " 10,\n",
       " 2,\n",
       " 8,\n",
       " 6,\n",
       " 6,\n",
       " 2,\n",
       " 8,\n",
       " 10,\n",
       " 4,\n",
       " 2,\n",
       " 2,\n",
       " 4,\n",
       " 10,\n",
       " 2,\n",
       " 10,\n",
       " 6,\n",
       " 10,\n",
       " 8,\n",
       " 4,\n",
       " 10,\n",
       " 10,\n",
       " 6,\n",
       " 4,\n",
       " 6,\n",
       " 4,\n",
       " 4,\n",
       " 10,\n",
       " 8,\n",
       " 10,\n",
       " 6,\n",
       " 2,\n",
       " 2,\n",
       " 10]"
      ]
     },
     "execution_count": 76,
     "metadata": {},
     "output_type": "execute_result"
    }
   ],
   "source": [
    "lista_pares"
   ]
  },
  {
   "cell_type": "code",
   "execution_count": 78,
   "id": "b5af5e65",
   "metadata": {},
   "outputs": [],
   "source": [
    "num_pares=len(lista_pares)"
   ]
  },
  {
   "cell_type": "code",
   "execution_count": 79,
   "id": "4d805934",
   "metadata": {},
   "outputs": [
    {
     "data": {
      "text/plain": [
       "54"
      ]
     },
     "execution_count": 79,
     "metadata": {},
     "output_type": "execute_result"
    }
   ],
   "source": [
    "num_pares"
   ]
  },
  {
   "cell_type": "code",
   "execution_count": 85,
   "id": "ae46f6fe",
   "metadata": {},
   "outputs": [],
   "source": [
    "contador=[0]*num_pares"
   ]
  },
  {
   "cell_type": "code",
   "execution_count": 86,
   "id": "b5694dbd",
   "metadata": {},
   "outputs": [],
   "source": [
    "for elemento in lista_pares:\n",
    "    contador[elemento]=contador[elemento]+1"
   ]
  },
  {
   "cell_type": "code",
   "execution_count": 94,
   "id": "8cb9a3c4",
   "metadata": {},
   "outputs": [
    {
     "data": {
      "text/plain": [
       "3"
      ]
     },
     "execution_count": 94,
     "metadata": {},
     "output_type": "execute_result"
    }
   ],
   "source": [
    "contador.count(12)"
   ]
  },
  {
   "cell_type": "code",
   "execution_count": 96,
   "id": "7df78a49",
   "metadata": {},
   "outputs": [
    {
     "data": {
      "text/plain": [
       "{2, 4, 6, 8, 10}"
      ]
     },
     "execution_count": 96,
     "metadata": {},
     "output_type": "execute_result"
    }
   ],
   "source": [
    "set(lista_pares)"
   ]
  },
  {
   "cell_type": "code",
   "execution_count": null,
   "id": "16801562",
   "metadata": {},
   "outputs": [],
   "source": []
  }
 ],
 "metadata": {
  "kernelspec": {
   "display_name": "Python 3 (ipykernel)",
   "language": "python",
   "name": "python3"
  },
  "language_info": {
   "codemirror_mode": {
    "name": "ipython",
    "version": 3
   },
   "file_extension": ".py",
   "mimetype": "text/x-python",
   "name": "python",
   "nbconvert_exporter": "python",
   "pygments_lexer": "ipython3",
   "version": "3.11.5"
  }
 },
 "nbformat": 4,
 "nbformat_minor": 5
}
