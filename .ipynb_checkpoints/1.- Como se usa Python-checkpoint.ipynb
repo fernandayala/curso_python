{
 "cells": [
  {
   "cell_type": "markdown",
   "metadata": {},
   "source": [
    "# Introducción a IPython y Jupyter Notebook"
   ]
  },
  {
   "cell_type": "markdown",
   "metadata": {},
   "source": [
    "### ¿Python 2 o Python 3? \n",
    "\n",
    "Hay dos versiones **actuales** de Python. La rama 2.7 (actualmente la version 2.7.9) y la rama 3 (actualmente 3.12). Todas las bibliotecas científicas de Python funcionan con ambas versiones. Pero Python 3 es aún más simple en muchos sentidos y es el que permanecerá a futuro!\n"
   ]
  },
  {
   "cell_type": "markdown",
   "metadata": {},
   "source": [
    "### ¿Cómo se usa Python?\n",
    "\n",
    "#### Consolas interactivas\n",
    "\n",
    "Hay muchas maneras de usar el lenguaje Python. Python es un lenguaje **interpretado** e **interactivo**. Si ejecutamos la consola (En windows `cmd.exe`) y luego  ejecutamos el comando `python` o `python3`, se abrirá la consola interactiva. \n",
    "\n",
    "##### Interactuando con Python\n",
    "\n",
    "Después que abra Python, se mostrará alguna información contextual similar a lo siguiente:\n",
    "\n",
    "<img src=\"../images/consola.png\" alt=\"Drawing\" style=\"width:600px;\"/>\n",
    "\n",
    "En la consola interactiva podemos escribir sentencias o pequeños bloques de código que son ejecutados inmediatamente. Pero *la consola interactiva* estándar es **limitada**. \n",
    "\n",
    "\n",
    "\n",
    "\n",
    "### ¿Qué editor usar?\n",
    "\n",
    "Python no exige un editor específico y hay muchos modos y maneras de programar. \n",
    "\n",
    "Un buen editor orientado a Python científico es **Spyder**, que es un entorno integrado (editor + ayuda + consola interactiva)\n",
    "\n",
    "El método más simple es usar un editor (tu preferido) y ejecutar el script desde la línea de comandos. Pero existen también __IDE__s (_integrated development environment_ pensados para facilitar la escritura de código y tener al alcance de la mano otras herramientas como _profilers_, _debuggers_, _explorador de variables_... Entre los más adecuados para la programación científica se encuentran [IEP](http://www.iep-project.org/) y [Spyder](http://code.google.com/p/spyderlib/) (instalado con Anaconda).\n",
    "\n",
    "<img src=\"../images/spyder.png\" alt=\"Drawing\" style=\"width:600px;\"/>\n",
    "\n",
    "\n",
    "\n",
    "\n",
    "## ¿Qué es IPython?\n",
    "\n",
    "Una alternativa como consola es usar **IPython**. La consola IPython supera a la estándar en muchos sentidos. Podemos autocompletar (`<TAB>`), ver ayuda rápida de cualquier objeto (`?`) y muchas cosas más. \n",
    "\n",
    "\n",
    "\n",
    "<img src=\"../images/ipython.png\" alt=\"Drawing\" style=\"width:600px;\"/>\n",
    "\n",
    "### Ipython Notebook (Jupyter)\n",
    "\n",
    "Otra forma muy útil es usar los *Notebooks*. Jupyter es un entorno web para computación interactiva. \n",
    "\n",
    "\n",
    "<div class=\"alert alert-info\">Si bien nació como parte del proyecto IPython, el mismo entorno visual se puede conectar a *\"kernels\"* de distintos lenguajes. Se puede usar Jupyter con Python, Julia, R, Octave y decenas de lenguajes más.</div>\n",
    "\n",
    "\n",
    "\n",
    "Podemos crear y editar \"celdas\" de código Python que podés editar y volver a ejecutar, podés intercalar celdas de texto, fórmulas matemáticas, y hacer que gráficos se muestren inscrutados en la misma pantalla. Estos archivos se guardan con extensión *.ipynb*, que pueden exportarse a diversos formatos estátucos como html o como código python puro. (.py)\n",
    "\n",
    "Los notebooks son muy útiles para la **\"programación exploratoria\"**, muy frecuente en ciencia e ingeniería\n",
    "\n",
    "Todo el material de estos cursos estarán en formato notebook.\n",
    "\n",
    "Para ejecutar IPython Notebook, desde la consola tipear:\n",
    "\n",
    "```\n",
    "jupyter notebook\n",
    "```\n",
    "\n",
    "\n"
   ]
  },
  {
   "cell_type": "markdown",
   "metadata": {},
   "source": [
    "\n",
    "### Notebook de IPython"
   ]
  },
  {
   "cell_type": "markdown",
   "metadata": {},
   "source": [
    "__Será nuestra herramienta de trabajo durante el curso__. Esto que estás leyendo ahora no es más que un notebook de IPython, que como diremos luego además de código puede contener texto e imágenes. Pero veamos primero cómo funciona.\n",
    "\n",
    "__Al iniciar el notebook de IPython, en la pantalla principal podemos ver una ruta y una lista de notebooks__. Cada notebook es un archivo que está almacenado en el ordenador en la ruta que aparece. Si en esa carpeta no hay notebooks, veremos un mensaje indicando que la lista de notebooks está vacía.\n",
    "\n",
    "Al crear un notebook o al abrir uno nuevo se abre la interfaz de IPython propiamente dicha donde ya podemos empezar a trabajar. Es similar a un intérprete, pero está dividida en **celdas**. Las celdas pueden contener, código, texto, imágenes...\n",
    "\n",
    "Cada celda de código está marcada por la palabra `In [<n>]` y están **numeradas**. Tan solo tenemos que escribir el código en ella y hacer click arriba en Cell -> Run, el triángulo (\"Run cell\") o usar el atajo `shift + Enter`. El resultado de la celda se muestra en el campo `Out [<n>]`, también numerado y coincidiendo con la celda que acabamos de ejecutar. Esto es importante, como ya veremos luego.\n",
    "\n",
    "Si en la barra superior seleccionas Markdown (o usas el atajo `Shift-M`) en lugar de Code puedes escribir texto:"
   ]
  },
  {
   "cell_type": "markdown",
   "metadata": {},
   "source": [
    "![](../images/markdown_cell.gif)"
   ]
  },
  {
   "cell_type": "markdown",
   "metadata": {},
   "source": [
    "También ecuaciones en latex y mucho más. Esto es una herramienta muy potente para explicar a alguien o a ti mismo lo que tu código hace, para hacer un informe, un trabajo, escribir en un blog...\n",
    "\n",
    "Markdown es un lenguaje aparte, no te preocupes por él demasiado ahora, irás aprendiendo sobre la marcha... Para cuando lo vayas necesitando, aquí tienes una [chuleta](https://github.com/adam-p/markdown-here/wiki/Markdown-Cheatsheet)."
   ]
  },
  {
   "cell_type": "markdown",
   "metadata": {},
   "source": [
    "\n",
    "![](../images/markdown_math.gif)"
   ]
  },
  {
   "cell_type": "markdown",
   "metadata": {},
   "source": [
    "Puedes mover las celdas de un lugar a otro de este modo:"
   ]
  },
  {
   "cell_type": "markdown",
   "metadata": {},
   "source": [
    "![](../images/cell_move.gif)\n"
   ]
  },
  {
   "cell_type": "markdown",
   "metadata": {},
   "source": [
    "El Notebook tiene además numerosos atajos que irás aprendiendo sobre la marcha, puedes consultarlos en la barra de herramientas  `Help > Keyboard Shortcourts`"
   ]
  },
  {
   "cell_type": "markdown",
   "metadata": {},
   "source": [
    "## Uso de Markdown en Jupyter Notebook\n",
    "\n",
    "Jupyter Notebook te permite utilizar Markdown para crear contenido enriquecido en tus celdas. Markdown es una sintaxis sencilla para formatear texto que incluye encabezados, listas, enlaces, imágenes y más. Aquí tienes ejemplos de cómo usar Markdown en Jupyter Notebook:\n",
    "\n",
    "### Encabezados\n",
    "\n",
    "Utiliza el símbolo `#` para crear encabezados de diferentes niveles:\n",
    "\n",
    "# Encabezado 1\n",
    "## Encabezado 2\n",
    "### Encabezado 3\n",
    "\n",
    "### Listas\n",
    "\n",
    "Crea listas ordenadas y no ordenadas:\n",
    "\n",
    "- Elemento 1\n",
    "- Elemento 2\n",
    "- Elemento 3\n",
    "\n",
    "1. Primer elemento\n",
    "2. Segundo elemento\n",
    "3. Tercer elemento\n",
    "\n",
    "### Enlaces\n",
    "\n",
    "Crea enlaces a páginas web:\n",
    "\n",
    "[Texto del Enlace](https://www.ejemplo.com)\n",
    "\n",
    "### Imágenes\n",
    "\n",
    "Incorpora imágenes en tu celda:\n",
    "`![Descripción de la Imagen](ruta/a/imagen.png)`"
   ]
  },
  {
   "cell_type": "markdown",
   "metadata": {},
   "source": [
    "### Énfasis y Negrita\n",
    "\n",
    "Puedes utilizar asteriscos o guiones bajos para aplicar énfasis o negrita:\n",
    "\n",
    "*Texto en Itálica*\n",
    "**Texto en Negrita**\n",
    "***Texto en Itálica y Negrita***\n",
    "\n",
    "### Citas\n",
    "\n",
    "Crea citas utilizando el símbolo `>`:\n",
    "\n",
    "> Esto es una cita.\n",
    "\n",
    "### Código\n",
    "\n",
    "Formatea código utilizando comillas invertidas:\n",
    "\n",
    "`print(\"Hola, Mundo\")`\n",
    "\n",
    "### Tablas\n",
    "\n",
    "Crea tablas con el formato:\n",
    "\n",
    "| Encabezado 1 | Encabezado 2 |\n",
    "|--------------|--------------|\n",
    "| Celda 1-1    | Celda 1-2    |\n",
    "| Celda 2-1    | Celda 2-2    |\n",
    "\n",
    "### Fórmulas Matemáticas\n",
    "\n",
    "Utiliza LaTeX para escribir fórmulas matemáticas:\n",
    "\n",
    "$E = mc^2$\n",
    "\n",
    "$$\n",
    "\\sum_{i=1}^{n} x_i\n",
    "$$\n",
    "\n",
    "### Separadores\n",
    "\n",
    "Utiliza tres o más guiones para crear un separador:\n",
    "\n",
    "---\n",
    "\n",
    "### Comentarios HTML\n",
    "\n",
    "Puedes usar comentarios HTML para notas o aclaraciones:\n",
    "\n",
    "<!-- Esto es un comentario -->\n",
    "\n",
    "Estos son solo algunos ejemplos de cómo utilizar Markdown en Jupyter Notebook para crear contenido formateado y enriquecido. Markdown es una forma efectiva de comunicar ideas y presentar información de manera visualmente atractiva en tus cuadernos.\n",
    "\n",
    "¡Ahora tienes una guía sobre cómo usar Markdown en Jupyter Notebook con ejemplos!\n"
   ]
  },
  {
   "cell_type": "markdown",
   "metadata": {},
   "source": [
    "### Programas \n",
    "\n",
    "Podemos usar Jupyter notebook con Python para hacer/ejecutar programas o scripts. \n",
    "Esto es, escribir nuestro código en un archivo con extensión `.py` y ejecutarlo con el intérprete de python.  \n",
    "Por ejemplo, el archivo hello.py (al que se le llama módulo) tiene este contenido:\n",
    "\n",
    "```python\n",
    "    print(\"¡Hola curso!\")\n",
    "```\n",
    "\n",
    "Si ejecutamos python scripts/hello.py se ejecutará en el interprete Python y obtendremos el resultado"
   ]
  },
  {
   "cell_type": "code",
   "execution_count": 6,
   "metadata": {},
   "outputs": [
    {
     "name": "stdout",
     "output_type": "stream",
     "text": [
      "¡Hola curso!\r\n"
     ]
    }
   ],
   "source": [
    "!python3 ../scripts/hello.py"
   ]
  },
  {
   "cell_type": "markdown",
   "metadata": {},
   "source": [
    "Pero tambien podemos manejar código python directamente en las celdas del notebook"
   ]
  },
  {
   "cell_type": "code",
   "execution_count": 2,
   "metadata": {},
   "outputs": [
    {
     "name": "stdout",
     "output_type": "stream",
     "text": [
      "Hola curso\n"
     ]
    }
   ],
   "source": [
    "print('Hola curso')"
   ]
  },
  {
   "cell_type": "markdown",
   "metadata": {},
   "source": [
    "<div class=\"alert alert-warning\">IPython agrega muchas funcionalidades complementarias que no son parte del lenguaje Python. Por ejemplo el signo `!` que precede la línea anterior indica que se ejecutará un programa/comando del sistema en vez de código python</div>"
   ]
  },
  {
   "cell_type": "markdown",
   "metadata": {},
   "source": [
    "El entorno Jupyter trae un editor sencillo, una shell/consola/terminal/CLI para ejecutar código python\n",
    "\n",
    "![](../images/editor.png)\n",
    "\n"
   ]
  },
  {
   "cell_type": "markdown",
   "metadata": {},
   "source": [
    "### Primer programa en Python"
   ]
  },
  {
   "cell_type": "markdown",
   "metadata": {},
   "source": [
    "Vamos a ver `mi_primer_script.py` que está en la carpeta `scripts`. __De momento no te preocupes por el código,__ ya habrá tiempo para eso..."
   ]
  },
  {
   "cell_type": "code",
   "execution_count": 4,
   "metadata": {},
   "outputs": [
    {
     "name": "stdout",
     "output_type": "stream",
     "text": [
      "import math\r\n",
      "     \r\n",
      "print(\"¡Hola  asistentes del curso de Python para el análisis de datos!\")\r\n",
      "print(\"¿Cuántos somos hoy en el curso?\")\r\n",
      "\r\n",
      "number = input()\r\n",
      "number = int(number)\r\n",
      "root = math.sqrt(number)\r\n",
      "\r\n",
      "print(\"La raiz de %i es %f\" %(number, root))\r\n"
     ]
    }
   ],
   "source": [
    "!cat ../scripts/mi_primer_script.py "
   ]
  },
  {
   "cell_type": "markdown",
   "metadata": {},
   "source": [
    "<div class=\"alert alert-info\"><strong>Tip de IPython</strong>:\n",
    "`cat` es un comando de no propio de Python. Anteponiendo `!` a comandos de la terminal como `cd`, `ls`, `cat`... se pueden ejecutar desde aquí.\n",
    "</div>"
   ]
  },
  {
   "cell_type": "markdown",
   "metadata": {},
   "source": [
    "<div class=\"alert\"><strong>Si estás usando Windows</strong> y acabas de obtener un error, susituye la línea anterior por:<br>\n",
    "    `!type ..\\scripts\\mi_primer_script.py`\n",
    "\n",
    "<br><br>\n",
    "`type` es un comando similar en Windows a `cat`. De nuevo, podemos ejecutar comandos como `cd`, `dir`, `type`, `find`...  desde aquí anteponiendo `!` y utilizando `\\` en lugar de `/` para la ruta donde se encuentra el archivo.\n",
    "    \n",
    "</div>\n",
    "\n",
    "Podemos ejecutar código python con el comando `%run`"
   ]
  },
  {
   "cell_type": "code",
   "execution_count": 5,
   "metadata": {},
   "outputs": [
    {
     "name": "stdout",
     "output_type": "stream",
     "text": [
      "¡Hola  asistentes del curso de Python para el análisis de datos!\n",
      "¿Cuántos somos hoy en el curso?\n",
      "100\n",
      "La raiz de 100 es 10.000000\n"
     ]
    }
   ],
   "source": [
    "%run ../scripts/mi_primer_script.py"
   ]
  },
  {
   "cell_type": "markdown",
   "metadata": {},
   "source": [
    "<div class=\"alert alert-info\"><strong>Tip de IPython</strong>:\n",
    "`%run` es un _comando mágico_ del notebook que te permite ejecutar un archivo.\n",
    "\n",
    "Tambień puede ejecutar un script/programa/código de python de la siguiente manera:\n",
    "\n",
    "\n",
    "`$ python3 scripts/mi_primer_script.py`\n",
    "\n",
    "</div>\n"
   ]
  },
  {
   "cell_type": "markdown",
   "metadata": {},
   "source": [
    "[IPython](http://ipython.org/) no es más que un [intérprete](https://es.wikipedia.org/wiki/Int%C3%A9rprete_(inform%C3%A1tica) de Python con algunas mejoras sustanciales, pero además su interfaz notebook es más cómoda de manejar que la línea de comandos y nos da un poco más de flexibilidad."
   ]
  },
  {
   "cell_type": "markdown",
   "metadata": {},
   "source": [
    "Podemos ejecutar  comandos  dese las celdas  de Jupyter. Llamar a Spyder de la siguiente forma:"
   ]
  },
  {
   "cell_type": "code",
   "execution_count": 5,
   "metadata": {},
   "outputs": [],
   "source": [
    "!spyder3"
   ]
  },
  {
   "cell_type": "markdown",
   "metadata": {},
   "source": [
    "o podemos ejecutar código de otros lenguajes y ver los resultados como en el siguiente ejemplo:"
   ]
  },
  {
   "cell_type": "code",
   "execution_count": 2,
   "metadata": {},
   "outputs": [
    {
     "name": "stdout",
     "output_type": "stream",
     "text": [
      "Hola mundo en C!!! desde pyhton!!!"
     ]
    }
   ],
   "source": [
    "!gcc ../scripts/hola.c -o hola\n",
    "!./hola"
   ]
  },
  {
   "cell_type": "markdown",
   "metadata": {},
   "source": [
    "escribir código a un archivo"
   ]
  },
  {
   "cell_type": "code",
   "execution_count": 2,
   "metadata": {},
   "outputs": [
    {
     "name": "stdout",
     "output_type": "stream",
     "text": [
      "Writing prog.py\n"
     ]
    }
   ],
   "source": [
    "%%writefile prog.py\n",
    "\n",
    "import argparse\n",
    "\n",
    "if __name__ == '__main__':\n",
    "\n",
    "    parser = argparse.ArgumentParser(description='Procesa una lista de enteros')\n",
    "    # uno o mas argumentos. se acumulan en una lista\n",
    "    parser.add_argument('enteros', metavar='N', type=int, nargs='+',        \n",
    "                       help='an integer for the accumulator')\n",
    "    parser.add_argument('--sum', dest='operacion', action='store_const',    # si se pasa --sum se usará const \n",
    "                       const=sum, default=max,                              # en vez de default\n",
    "                       help='sum the integers (default: find the max)')\n",
    "\n",
    "    args = parser.parse_args()\n",
    "    print(args.operacion(args.enteros))"
   ]
  },
  {
   "cell_type": "markdown",
   "metadata": {},
   "source": [
    "Se guarda en un archivo llamado 'prog.py' el contenido de la celda."
   ]
  },
  {
   "cell_type": "code",
   "execution_count": null,
   "metadata": {},
   "outputs": [],
   "source": []
  }
 ],
 "metadata": {
  "kernelspec": {
   "display_name": "Python 3 (ipykernel)",
   "language": "python",
   "name": "python3"
  },
  "language_info": {
   "codemirror_mode": {
    "name": "ipython",
    "version": 3
   },
   "file_extension": ".py",
   "mimetype": "text/x-python",
   "name": "python",
   "nbconvert_exporter": "python",
   "pygments_lexer": "ipython3",
   "version": "3.11.5"
  }
 },
 "nbformat": 4,
 "nbformat_minor": 4
}
