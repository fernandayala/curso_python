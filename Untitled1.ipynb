{
 "cells": [
  {
   "cell_type": "code",
   "execution_count": 7,
   "id": "31d5de2e",
   "metadata": {},
   "outputs": [],
   "source": [
    "def lista_edades(lista):\n",
    "    lista2=[]\n",
    "    for elemento in lista:\n",
    "        if elemento >=18:\n",
    "            lista2.append(elemento)\n",
    "    return lista2"
   ]
  },
  {
   "cell_type": "code",
   "execution_count": 8,
   "id": "013d577d",
   "metadata": {},
   "outputs": [
    {
     "name": "stdout",
     "output_type": "stream",
     "text": [
      "[45, 18, 20, 45]\n"
     ]
    }
   ],
   "source": [
    "edades=[17,45,18,20,45]\n",
    "print(lista_edades(edades))\n",
    "edades2=lista_edades(edades)"
   ]
  },
  {
   "cell_type": "code",
   "execution_count": 15,
   "id": "26327bc1",
   "metadata": {},
   "outputs": [],
   "source": [
    "def filtrar_nombres(lista_nombres,lista_edades):\n",
    "    Nombre_edades=[]\n",
    "    \n",
    "    for elemento in enumerate(lista_nombres):\n",
    "        print(elemento)\n",
    "        if lista_nombres[elemento]>=18:\n",
    "            Nombre_edades.append(elemento)\n",
    "    return Nombre_edades\n"
   ]
  },
  {
   "cell_type": "code",
   "execution_count": 16,
   "id": "f3b7c30e",
   "metadata": {},
   "outputs": [
    {
     "name": "stdout",
     "output_type": "stream",
     "text": [
      "(0, 'vanessa')\n"
     ]
    },
    {
     "ename": "TypeError",
     "evalue": "list indices must be integers or slices, not tuple",
     "output_type": "error",
     "traceback": [
      "\u001b[0;31m---------------------------------------------------------------------------\u001b[0m",
      "\u001b[0;31mTypeError\u001b[0m                                 Traceback (most recent call last)",
      "Cell \u001b[0;32mIn[16], line 2\u001b[0m\n\u001b[1;32m      1\u001b[0m nombres\u001b[38;5;241m=\u001b[39m[\u001b[38;5;124m\"\u001b[39m\u001b[38;5;124mvanessa\u001b[39m\u001b[38;5;124m\"\u001b[39m,\u001b[38;5;124m\"\u001b[39m\u001b[38;5;124malejandra\u001b[39m\u001b[38;5;124m\"\u001b[39m,\u001b[38;5;124m\"\u001b[39m\u001b[38;5;124momar\u001b[39m\u001b[38;5;124m\"\u001b[39m,\u001b[38;5;124m\"\u001b[39m\u001b[38;5;124mixchel\u001b[39m\u001b[38;5;124m\"\u001b[39m,\u001b[38;5;124m\"\u001b[39m\u001b[38;5;124mluci\u001b[39m\u001b[38;5;124m\"\u001b[39m]\n\u001b[0;32m----> 2\u001b[0m filtrar_nombres(nombres,edades)\n",
      "Cell \u001b[0;32mIn[15], line 6\u001b[0m, in \u001b[0;36mfiltrar_nombres\u001b[0;34m(lista_nombres, lista_edades)\u001b[0m\n\u001b[1;32m      4\u001b[0m \u001b[38;5;28;01mfor\u001b[39;00m elemento \u001b[38;5;129;01min\u001b[39;00m \u001b[38;5;28menumerate\u001b[39m(lista_nombres):\n\u001b[1;32m      5\u001b[0m     \u001b[38;5;28mprint\u001b[39m(elemento)\n\u001b[0;32m----> 6\u001b[0m     \u001b[38;5;28;01mif\u001b[39;00m lista_nombres[elemento]\u001b[38;5;241m>\u001b[39m\u001b[38;5;241m=\u001b[39m\u001b[38;5;241m18\u001b[39m:\n\u001b[1;32m      7\u001b[0m         Nombre_edades\u001b[38;5;241m.\u001b[39mappend(elemento)\n\u001b[1;32m      8\u001b[0m \u001b[38;5;28;01mreturn\u001b[39;00m Nombre_edades\n",
      "\u001b[0;31mTypeError\u001b[0m: list indices must be integers or slices, not tuple"
     ]
    }
   ],
   "source": [
    "nombres=[\"vanessa\",\"alejandra\",\"omar\",\"ixchel\",\"luci\"]\n",
    "filtrar_nombres(nombres,edades)"
   ]
  },
  {
   "cell_type": "code",
   "execution_count": null,
   "id": "9102c966",
   "metadata": {},
   "outputs": [],
   "source": []
  }
 ],
 "metadata": {
  "kernelspec": {
   "display_name": "Python 3 (ipykernel)",
   "language": "python",
   "name": "python3"
  },
  "language_info": {
   "codemirror_mode": {
    "name": "ipython",
    "version": 3
   },
   "file_extension": ".py",
   "mimetype": "text/x-python",
   "name": "python",
   "nbconvert_exporter": "python",
   "pygments_lexer": "ipython3",
   "version": "3.11.5"
  }
 },
 "nbformat": 4,
 "nbformat_minor": 5
}
