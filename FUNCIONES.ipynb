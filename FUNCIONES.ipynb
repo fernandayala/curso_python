{
 "cells": [
  {
   "cell_type": "code",
   "execution_count": null,
   "id": "f22d1459",
   "metadata": {},
   "outputs": [],
   "source": [
    "def funcion(cadena):\n",
    "    for elemento in cadena:\n",
    "        if elemento != \" \":\n",
    "            cadena2=elemento\n",
    "    return cadena2\n",
    "funcion(\"mi cadena en python\")\n",
    "print()"
   ]
  }
 ],
 "metadata": {
  "kernelspec": {
   "display_name": "Python 3 (ipykernel)",
   "language": "python",
   "name": "python3"
  },
  "language_info": {
   "codemirror_mode": {
    "name": "ipython",
    "version": 3
   },
   "file_extension": ".py",
   "mimetype": "text/x-python",
   "name": "python",
   "nbconvert_exporter": "python",
   "pygments_lexer": "ipython3",
   "version": "3.11.5"
  }
 },
 "nbformat": 4,
 "nbformat_minor": 5
}
