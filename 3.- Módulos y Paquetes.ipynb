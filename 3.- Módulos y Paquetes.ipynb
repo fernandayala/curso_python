{
 "cells": [
  {
   "cell_type": "code",
   "execution_count": null,
   "id": "cdbd6256-f0dd-4308-a8a1-b26391e6a70b",
   "metadata": {},
   "outputs": [],
   "source": []
  },
  {
   "cell_type": "code",
   "execution_count": null,
   "id": "e622815e-5506-4dab-b388-811002eb3695",
   "metadata": {},
   "outputs": [],
   "source": []
  },
  {
   "cell_type": "markdown",
   "id": "b7d40387-9a6c-4c77-884a-74067d8c6c08",
   "metadata": {},
   "source": [
    "# Módulos y Paquetes\n",
    "\n",
    "## Módulos\n",
    "Un módulo es un archivo de Python que contiene variables, funciones y clases. Es una forma de ordenar y reutilizar código ya que todo el contenido de un módulo es accesible por los archivos que lo importen.\n",
    "\n",
    "```python\n",
    "# mundo.py\n",
    "\n",
    "def hola_mundo():\n",
    "    print(\"¡Hola Mundo!\")\n",
    "\n",
    "def adios_mundo():\n",
    "    print(\"¡Adios Mundo!\")\n",
    "\n",
    "```\n",
    "\n",
    "Para acceder a las funciones desde otro archivo Python se utiliza la palabra reservada `import`:\n",
    "\n",
    "```python\n",
    "# app.py\n",
    "\n",
    "import mundo\n",
    "\n",
    "# Llamada a la función\n",
    "mundo.hola_mundo()\n",
    "```\n",
    "\n",
    "También existe la posibilidad de importar únicamente objetos concretos de un módulo mediante la sintaxis `from ... import`:\n",
    "\n",
    "```python\n",
    "# app.py\n",
    "\n",
    "from mundo import adios_mundo\n",
    "\n",
    "# Llamada a la función\n",
    "adios_mundo()\n",
    "```\n",
    "\n",
    "De esta forma no es necesario escribir el nombre del modulo antes de utilizar la función. De igual manera, se pueden importar varios objetos de un módulo separándolos por una coma:\n",
    "\n",
    "```python\n",
    "# app.py\n",
    "\n",
    "from mundo import adios_mundo, hola_mundo\n",
    "```\n",
    "\n",
    "Para importar todos los los objetos de un módulo basta con utilizar el asterisco:\n",
    "\n",
    "```python\n",
    "# app.py\n",
    "\n",
    "from mundo import *\n",
    "```\n",
    "\n",
    "### Localización de los módulos\n",
    "Al importar un módulo Python lo buscara en los siguientes directorios:\n",
    "\n",
    " 1. En el directorio actual.\n",
    " 2. En los directorios declarados en el `PYTHONPATH` (variable de entorno que contiene un listado de directorios)\n",
    " 3. En el directorio de instalación de Python por defecto (en UNIX normalmente '`/usr/local/lib/python`/')\n",
    "\n",
    "## Paquetes\n",
    "Es posible agrupar los módulos que tienen relación en un mismo directorio. Estos directorios son conocidos en Python como paquetes y deben contener siempre un archivo llamado `__init__.py` para que Python lo reconozca como un paquete.\n",
    "\n",
    "A medida que desarrollamos una aplicación es habitual agrupar los archivos en directorios (paquetes) para tener el código organizado.\n",
    "\n",
    "Para cargar un módulo ubicado en un paquete lo haremos de la siguiente forma:\n",
    "\n",
    "```python\n",
    "import mipaquete.mundo\n",
    "```\n",
    "o bien de la siguiente manera:\n",
    "```python\n",
    "from mipaquete import mundo\n",
    "```\n",
    "También es posible importar elementos concretos de un módulo:\n",
    "```python\n",
    "from mipaquete.mundo import adios_mundo, hola_mundo\n",
    "```"
   ]
  },
  {
   "cell_type": "markdown",
   "id": "b9f76ba7-57ee-4723-9107-805b1054b3ef",
   "metadata": {},
   "source": [
    "## Importando módulos: import, from\n",
    "\n",
    "Para importar un módulo completo tenemos que utilizar las instrucción `import`. lo podemos importar de la siguiente manera:\n",
    "\n",
    "\t>>> import potencias\n",
    "\t>>> potencias.cuadrado(3)\n",
    "\t9\n",
    "\t>>> potencias.cubo(3)\n",
    "\t27\n",
    "\n",
    "## Namespace y alias\n",
    "\n",
    "Para acceder (desde el módulo donde se realizó la importación), a cualquier elemento del módulo importado, se realiza mediante el **namespace**, seguido de un punto (.) y el nombre del elemento que se desee obtener. En Python, un **namespace**, es el nombre que se ha indicado luego de la palabra import, es decir la ruta (namespace) del módulo.\n",
    "\n",
    "Es posible también, abreviar los **namespaces** mediante un **alias**. Para ello, durante la importación, se asigna la palabra clave `as` seguida del alias con el cuál nos referiremos en el futuro a ese namespace importado:\n",
    "\n",
    "\t>>> import potencias as p\n",
    "\t>>> p.cuadrado(3)\n",
    "\t9\n",
    "\n",
    "## Importando elementos de un módulo: from...import\n",
    "\n",
    "Para no utilizar el **namespace** podemos indicar los elementos concretos que queremos importar de un módulo:\n",
    "\n",
    "\t>>> from potencias import cubo\n",
    "\t>>> cubo(3)\n",
    "\t27\n",
    "\n",
    "Podemos importar varios elementos separándolos con comas:\n",
    "\n",
    "\t>>> from potencias import cubo,cuadrado\n",
    "\n",
    "Podemos tener un problema al importar dos elementos de dos módulos que se llamen igual. En este caso tengo que utilizar **alias**:\n",
    "\n",
    "\t>>> from potencias import cuadrado as pc\n",
    "\t>>> from dibujos import cuadrado as dc\n",
    "\t>>> pc(3)\n",
    "\t9\n",
    "\t>>> dc()\n",
    "\tEsto es un cuadrado\n",
    "\n",
    "## Importando módulos desde paquetes\n",
    "\n",
    "Si tenemos un módulo dentro de un paquete la importación se haría de forma similar. tenemos un paquete llamado `operaciones`:\n",
    "\n",
    "\t$ cd operaciones\n",
    "\t$ ls\n",
    "\t__init.py__  potencias.py\n",
    "\n",
    "Para importarlo:\n",
    "\n",
    "\t>>> import operaciones.potencias\n",
    "\t>>> operaciones.potencias.cubo(3)\n",
    "\t27\n",
    "\n",
    "\t>>> from operaciones.potencias import cubo\n",
    "\t>>> cubo(3)\n",
    "\t27\n"
   ]
  },
  {
   "cell_type": "markdown",
   "id": "c845db65-a99f-49fa-a902-fc2cda31de8a",
   "metadata": {},
   "source": [
    "## Manejo de Variables de Entorno en Python\n",
    "\n",
    "En Python, las variables de entorno son variables globales que se utilizan para configurar aspectos específicos del entorno en el que se ejecuta una aplicación. Estas variables pueden contener información como rutas de archivos, credenciales de acceso, configuraciones de bases de datos y más. Python proporciona una forma sencilla de acceder y configurar estas variables utilizando el módulo os y su función os.environ.\n",
    "\n",
    "Aquí te explico cómo se manejan las variables de entorno en Python:\n",
    "\n",
    "\n",
    "Importar el módulo os:\n",
    "\n",
    "1.- Primero, debes importar el módulo os para poder acceder a las funciones relacionadas con las variables de entorno.\n"
   ]
  },
  {
   "cell_type": "markdown",
   "id": "b886a9eb-e8e8-49c7-9978-a4b6b4d20be8",
   "metadata": {},
   "source": [
    "import os"
   ]
  },
  {
   "cell_type": "markdown",
   "id": "08ca22a9-fe86-47c8-ae29-9aa2b60912e9",
   "metadata": {},
   "source": [
    "2.- Acceder a una variable de entorno:\n",
    "\n",
    "Puedes acceder al valor de una variable de entorno utilizando la función os.environ.get().\n",
    "\n",
    "Por ejemplo, para acceder a la variable de entorno llamada \"API_KEY\", harías lo siguiente:"
   ]
  },
  {
   "cell_type": "code",
   "execution_count": 3,
   "id": "7e7b0b95-ce35-4a7c-a0f4-adc34b35eb8f",
   "metadata": {},
   "outputs": [],
   "source": [
    "api_key = os.environ.get(\"API_KEY\")"
   ]
  },
  {
   "cell_type": "markdown",
   "id": "0587c0a8-aaa7-4e09-88f1-1a0a2acece98",
   "metadata": {},
   "source": [
    "Establecer una variable de entorno:\n",
    "\n",
    "Para establecer el valor de una variable de entorno, puedes usar la misma función os.environ.\n",
    "\n",
    "Por ejemplo, para establecer la variable \"DB_PASSWORD\", harías lo siguiente:"
   ]
  },
  {
   "cell_type": "markdown",
   "id": "3f400034-45cd-43e2-a4ab-7fb265c7513f",
   "metadata": {},
   "source": [
    "### Uso Común en Entornos Productivos\n",
    "\n",
    "En entornos productivos, un uso común de las variables de entorno es almacenar credenciales y configuraciones sensibles, como contraseñas de bases de datos. Esto mejora la seguridad al no incluir datos sensibles directamente en el código fuente. Además, permite una gestión más segura y escalable de la configuración. En este contexto, se utilizan herramientas de administración de configuración o contenedores para centralizar y gestionar las variables de entorno en múltiples instancias de la aplicación. Esto facilita la implementación, el mantenimiento y garantiza una mayor seguridad.\n",
    "\n"
   ]
  },
  {
   "cell_type": "code",
   "execution_count": 4,
   "id": "cb8629ee-e128-4001-b0d7-de48e11f5fd2",
   "metadata": {},
   "outputs": [],
   "source": [
    "os.environ[\"DB_PASSWORD\"] = \"mi_contraseña_secreta\"\n"
   ]
  },
  {
   "cell_type": "markdown",
   "id": "c06d5205-8a6c-41e9-8785-e28e762ff61a",
   "metadata": {},
   "source": [
    "Es importante tener en cuenta que las variables de entorno generalmente se configuran fuera del código de tu aplicación, ya que esto permite que la configuración se ajuste fácilmente según el entorno en el que se esté ejecutando (desarrollo, pruebas, producción, etc.).\n",
    "\n"
   ]
  },
  {
   "cell_type": "markdown",
   "id": "7cce93a7-d615-4044-814c-6f3f5222a143",
   "metadata": {},
   "source": [
    "### Uso Común en Entornos Productivos\n",
    "\n",
    "En entornos productivos, un uso común de las variables de entorno es almacenar credenciales y configuraciones sensibles, como contraseñas de bases de datos. Esto mejora la seguridad al no incluir datos sensibles directamente en el código fuente. Además, permite una gestión más segura y escalable de la configuración. En este contexto, se utilizan herramientas de administración de configuración o contenedores para centralizar y gestionar las variables de entorno en múltiples instancias de la aplicación. Esto facilita la implementación, el mantenimiento y garantiza una mayor seguridad."
   ]
  },
  {
   "cell_type": "code",
   "execution_count": null,
   "id": "31bd0153-cba6-44a5-bbf6-81dd36726bfa",
   "metadata": {},
   "outputs": [],
   "source": []
  }
 ],
 "metadata": {
  "hide_input": false,
  "kernelspec": {
   "display_name": "Python 3 (ipykernel)",
   "language": "python",
   "name": "python3"
  },
  "language_info": {
   "codemirror_mode": {
    "name": "ipython",
    "version": 3
   },
   "file_extension": ".py",
   "mimetype": "text/x-python",
   "name": "python",
   "nbconvert_exporter": "python",
   "pygments_lexer": "ipython3",
   "version": "3.11.4"
  }
 },
 "nbformat": 4,
 "nbformat_minor": 5
}
