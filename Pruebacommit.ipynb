{
 "cells": [
  {
   "cell_type": "code",
   "execution_count": null,
   "id": "73351dd8",
   "metadata": {},
   "outputs": [],
   "source": [
    "hola estoy haciendo un commit\n"
   ]
  },
  {
   "cell_type": "markdown",
   "id": "aeb8c624",
   "metadata": {},
   "source": []
  },
  {
   "cell_type": "markdown",
   "id": "1013f477",
   "metadata": {},
   "source": []
  }
 ],
 "metadata": {
  "kernelspec": {
   "display_name": "Python 3 (ipykernel)",
   "language": "python",
   "name": "python3"
  },
  "language_info": {
   "codemirror_mode": {
    "name": "ipython",
    "version": 3
   },
   "file_extension": ".py",
   "mimetype": "text/x-python",
   "name": "python",
   "nbconvert_exporter": "python",
   "pygments_lexer": "ipython3",
   "version": "3.11.5"
  }
 },
 "nbformat": 4,
 "nbformat_minor": 5
}
